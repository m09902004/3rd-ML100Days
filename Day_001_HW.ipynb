{
 "cells": [
  {
   "cell_type": "code",
   "execution_count": null,
   "metadata": {},
   "outputs": [],
   "source": [
    "import numpy as np\n",
    "\n",
    "#設範例係數 a 及 常數 b\n",
    "#設範數據 x_lin , y 及 預測 y_pre\n",
    "a = 3 \n",
    "b = 0.5\n",
    "x_lin = np.linspace(0, 100, 101)\n",
    "y = (x_lin + np.random.randn(101) * 5) * a + b\n",
    "y_pre = x_lin * a + b\n",
    "\n",
    "#設函數 MSE\n",
    "def mean_square_error(y, yp):\n",
    "  mse = MSE = np.mean((y - yp)**2)\n",
    "  return mse\n",
    "\n",
    "#輸出結果\n",
    "MSE = mean_square_error(y, y_y_pre)\n",
    "print(\"The Mean square error is %.3f\" % (MSE))\n"
   ]
  }
 ],
 "metadata": {
  "kernelspec": {
   "display_name": "Python 3",
   "language": "python",
   "name": "python3"
  },
  "language_info": {
   "codemirror_mode": {
    "name": "ipython",
    "version": 3
   },
   "file_extension": ".py",
   "mimetype": "text/x-python",
   "name": "python",
   "nbconvert_exporter": "python",
   "pygments_lexer": "ipython3",
   "version": "3.7.1"
  }
 },
 "nbformat": 4,
 "nbformat_minor": 2
}
